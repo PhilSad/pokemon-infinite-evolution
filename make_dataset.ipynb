{
 "cells": [
  {
   "cell_type": "code",
   "execution_count": 10,
   "metadata": {},
   "outputs": [],
   "source": [
    "import pandas as pd\n",
    "from Levenshtein import distance"
   ]
  },
  {
   "cell_type": "code",
   "execution_count": 49,
   "metadata": {},
   "outputs": [],
   "source": [
    "bulba_df = pd.read_json('scrap/bulba4.json')\n",
    "evol_df  = pd.read_csv('pokemon_species.csv')"
   ]
  },
  {
   "cell_type": "code",
   "execution_count": 50,
   "metadata": {},
   "outputs": [
    {
     "data": {
      "text/html": [
       "<div>\n",
       "<style scoped>\n",
       "    .dataframe tbody tr th:only-of-type {\n",
       "        vertical-align: middle;\n",
       "    }\n",
       "\n",
       "    .dataframe tbody tr th {\n",
       "        vertical-align: top;\n",
       "    }\n",
       "\n",
       "    .dataframe thead th {\n",
       "        text-align: right;\n",
       "    }\n",
       "</style>\n",
       "<table border=\"1\" class=\"dataframe\">\n",
       "  <thead>\n",
       "    <tr style=\"text-align: right;\">\n",
       "      <th></th>\n",
       "      <th>name</th>\n",
       "      <th>nat_idx</th>\n",
       "      <th>image_link</th>\n",
       "      <th>image_path</th>\n",
       "    </tr>\n",
       "  </thead>\n",
       "  <tbody>\n",
       "    <tr>\n",
       "      <th>0</th>\n",
       "      <td>Bulbasaur</td>\n",
       "      <td>#0001</td>\n",
       "      <td>https://archives.bulbagarden.net/media/upload/...</td>\n",
       "      <td>images/#0001_Bulbasaur.png</td>\n",
       "    </tr>\n",
       "    <tr>\n",
       "      <th>1</th>\n",
       "      <td>Raichu</td>\n",
       "      <td>#0026</td>\n",
       "      <td>https://archives.bulbagarden.net/media/upload/...</td>\n",
       "      <td>images/#0026_Raichu.png</td>\n",
       "    </tr>\n",
       "    <tr>\n",
       "      <th>2</th>\n",
       "      <td>Weedle</td>\n",
       "      <td>#0013</td>\n",
       "      <td>https://archives.bulbagarden.net/media/upload/...</td>\n",
       "      <td>images/#0013_Weedle.png</td>\n",
       "    </tr>\n",
       "    <tr>\n",
       "      <th>3</th>\n",
       "      <td>Pikachu</td>\n",
       "      <td>#0025</td>\n",
       "      <td>https://archives.bulbagarden.net/media/upload/...</td>\n",
       "      <td>images/#0025_Pikachu.png</td>\n",
       "    </tr>\n",
       "    <tr>\n",
       "      <th>4</th>\n",
       "      <td>Kakuna</td>\n",
       "      <td>#0014</td>\n",
       "      <td>https://archives.bulbagarden.net/media/upload/...</td>\n",
       "      <td>images/#0014_Kakuna.png</td>\n",
       "    </tr>\n",
       "    <tr>\n",
       "      <th>...</th>\n",
       "      <td>...</td>\n",
       "      <td>...</td>\n",
       "      <td>...</td>\n",
       "      <td>...</td>\n",
       "    </tr>\n",
       "    <tr>\n",
       "      <th>1020</th>\n",
       "      <td>Wartortle</td>\n",
       "      <td>#0008</td>\n",
       "      <td>https://archives.bulbagarden.net/media/upload/...</td>\n",
       "      <td>images/#0008_Wartortle.png</td>\n",
       "    </tr>\n",
       "    <tr>\n",
       "      <th>1021</th>\n",
       "      <td>Charmander</td>\n",
       "      <td>#0004</td>\n",
       "      <td>https://archives.bulbagarden.net/media/upload/...</td>\n",
       "      <td>images/#0004_Charmander.png</td>\n",
       "    </tr>\n",
       "    <tr>\n",
       "      <th>1022</th>\n",
       "      <td>Charmeleon</td>\n",
       "      <td>#0005</td>\n",
       "      <td>https://archives.bulbagarden.net/media/upload/...</td>\n",
       "      <td>images/#0005_Charmeleon.png</td>\n",
       "    </tr>\n",
       "    <tr>\n",
       "      <th>1023</th>\n",
       "      <td>Venusaur</td>\n",
       "      <td>#0003</td>\n",
       "      <td>https://archives.bulbagarden.net/media/upload/...</td>\n",
       "      <td>images/#0003_Venusaur.png</td>\n",
       "    </tr>\n",
       "    <tr>\n",
       "      <th>1024</th>\n",
       "      <td>Ivysaur</td>\n",
       "      <td>#0002</td>\n",
       "      <td>https://archives.bulbagarden.net/media/upload/...</td>\n",
       "      <td>images/#0002_Ivysaur.png</td>\n",
       "    </tr>\n",
       "  </tbody>\n",
       "</table>\n",
       "<p>1025 rows × 4 columns</p>\n",
       "</div>"
      ],
      "text/plain": [
       "            name nat_idx                                         image_link  \\\n",
       "0      Bulbasaur   #0001  https://archives.bulbagarden.net/media/upload/...   \n",
       "1         Raichu   #0026  https://archives.bulbagarden.net/media/upload/...   \n",
       "2         Weedle   #0013  https://archives.bulbagarden.net/media/upload/...   \n",
       "3        Pikachu   #0025  https://archives.bulbagarden.net/media/upload/...   \n",
       "4         Kakuna   #0014  https://archives.bulbagarden.net/media/upload/...   \n",
       "...          ...     ...                                                ...   \n",
       "1020   Wartortle   #0008  https://archives.bulbagarden.net/media/upload/...   \n",
       "1021  Charmander   #0004  https://archives.bulbagarden.net/media/upload/...   \n",
       "1022  Charmeleon   #0005  https://archives.bulbagarden.net/media/upload/...   \n",
       "1023    Venusaur   #0003  https://archives.bulbagarden.net/media/upload/...   \n",
       "1024     Ivysaur   #0002  https://archives.bulbagarden.net/media/upload/...   \n",
       "\n",
       "                       image_path  \n",
       "0      images/#0001_Bulbasaur.png  \n",
       "1         images/#0026_Raichu.png  \n",
       "2         images/#0013_Weedle.png  \n",
       "3        images/#0025_Pikachu.png  \n",
       "4         images/#0014_Kakuna.png  \n",
       "...                           ...  \n",
       "1020   images/#0008_Wartortle.png  \n",
       "1021  images/#0004_Charmander.png  \n",
       "1022  images/#0005_Charmeleon.png  \n",
       "1023    images/#0003_Venusaur.png  \n",
       "1024     images/#0002_Ivysaur.png  \n",
       "\n",
       "[1025 rows x 4 columns]"
      ]
     },
     "execution_count": 50,
     "metadata": {},
     "output_type": "execute_result"
    }
   ],
   "source": [
    "bulba_df"
   ]
  },
  {
   "cell_type": "code",
   "execution_count": 51,
   "metadata": {},
   "outputs": [
    {
     "data": {
      "text/html": [
       "<div>\n",
       "<style scoped>\n",
       "    .dataframe tbody tr th:only-of-type {\n",
       "        vertical-align: middle;\n",
       "    }\n",
       "\n",
       "    .dataframe tbody tr th {\n",
       "        vertical-align: top;\n",
       "    }\n",
       "\n",
       "    .dataframe thead th {\n",
       "        text-align: right;\n",
       "    }\n",
       "</style>\n",
       "<table border=\"1\" class=\"dataframe\">\n",
       "  <thead>\n",
       "    <tr style=\"text-align: right;\">\n",
       "      <th></th>\n",
       "      <th>id</th>\n",
       "      <th>identifier</th>\n",
       "      <th>generation_id</th>\n",
       "      <th>evolves_from_species_id</th>\n",
       "      <th>evolution_chain_id</th>\n",
       "      <th>color_id</th>\n",
       "      <th>shape_id</th>\n",
       "      <th>habitat_id</th>\n",
       "      <th>gender_rate</th>\n",
       "      <th>capture_rate</th>\n",
       "      <th>base_happiness</th>\n",
       "      <th>is_baby</th>\n",
       "      <th>hatch_counter</th>\n",
       "      <th>has_gender_differences</th>\n",
       "      <th>growth_rate_id</th>\n",
       "      <th>forms_switchable</th>\n",
       "      <th>is_legendary</th>\n",
       "      <th>is_mythical</th>\n",
       "      <th>order</th>\n",
       "      <th>conquest_order</th>\n",
       "    </tr>\n",
       "  </thead>\n",
       "  <tbody>\n",
       "    <tr>\n",
       "      <th>0</th>\n",
       "      <td>1</td>\n",
       "      <td>bulbasaur</td>\n",
       "      <td>1</td>\n",
       "      <td>NaN</td>\n",
       "      <td>1</td>\n",
       "      <td>5</td>\n",
       "      <td>8</td>\n",
       "      <td>3.0</td>\n",
       "      <td>1</td>\n",
       "      <td>45</td>\n",
       "      <td>50.0</td>\n",
       "      <td>0</td>\n",
       "      <td>20.0</td>\n",
       "      <td>0</td>\n",
       "      <td>4</td>\n",
       "      <td>0</td>\n",
       "      <td>0</td>\n",
       "      <td>0</td>\n",
       "      <td>1</td>\n",
       "      <td>NaN</td>\n",
       "    </tr>\n",
       "    <tr>\n",
       "      <th>1</th>\n",
       "      <td>2</td>\n",
       "      <td>ivysaur</td>\n",
       "      <td>1</td>\n",
       "      <td>1.0</td>\n",
       "      <td>1</td>\n",
       "      <td>5</td>\n",
       "      <td>8</td>\n",
       "      <td>3.0</td>\n",
       "      <td>1</td>\n",
       "      <td>45</td>\n",
       "      <td>50.0</td>\n",
       "      <td>0</td>\n",
       "      <td>20.0</td>\n",
       "      <td>0</td>\n",
       "      <td>4</td>\n",
       "      <td>0</td>\n",
       "      <td>0</td>\n",
       "      <td>0</td>\n",
       "      <td>2</td>\n",
       "      <td>NaN</td>\n",
       "    </tr>\n",
       "    <tr>\n",
       "      <th>2</th>\n",
       "      <td>3</td>\n",
       "      <td>venusaur</td>\n",
       "      <td>1</td>\n",
       "      <td>2.0</td>\n",
       "      <td>1</td>\n",
       "      <td>5</td>\n",
       "      <td>8</td>\n",
       "      <td>3.0</td>\n",
       "      <td>1</td>\n",
       "      <td>45</td>\n",
       "      <td>50.0</td>\n",
       "      <td>0</td>\n",
       "      <td>20.0</td>\n",
       "      <td>1</td>\n",
       "      <td>4</td>\n",
       "      <td>1</td>\n",
       "      <td>0</td>\n",
       "      <td>0</td>\n",
       "      <td>3</td>\n",
       "      <td>NaN</td>\n",
       "    </tr>\n",
       "    <tr>\n",
       "      <th>3</th>\n",
       "      <td>4</td>\n",
       "      <td>charmander</td>\n",
       "      <td>1</td>\n",
       "      <td>NaN</td>\n",
       "      <td>2</td>\n",
       "      <td>8</td>\n",
       "      <td>6</td>\n",
       "      <td>4.0</td>\n",
       "      <td>1</td>\n",
       "      <td>45</td>\n",
       "      <td>50.0</td>\n",
       "      <td>0</td>\n",
       "      <td>20.0</td>\n",
       "      <td>0</td>\n",
       "      <td>4</td>\n",
       "      <td>0</td>\n",
       "      <td>0</td>\n",
       "      <td>0</td>\n",
       "      <td>4</td>\n",
       "      <td>109.0</td>\n",
       "    </tr>\n",
       "    <tr>\n",
       "      <th>4</th>\n",
       "      <td>5</td>\n",
       "      <td>charmeleon</td>\n",
       "      <td>1</td>\n",
       "      <td>4.0</td>\n",
       "      <td>2</td>\n",
       "      <td>8</td>\n",
       "      <td>6</td>\n",
       "      <td>4.0</td>\n",
       "      <td>1</td>\n",
       "      <td>45</td>\n",
       "      <td>50.0</td>\n",
       "      <td>0</td>\n",
       "      <td>20.0</td>\n",
       "      <td>0</td>\n",
       "      <td>4</td>\n",
       "      <td>0</td>\n",
       "      <td>0</td>\n",
       "      <td>0</td>\n",
       "      <td>5</td>\n",
       "      <td>110.0</td>\n",
       "    </tr>\n",
       "  </tbody>\n",
       "</table>\n",
       "</div>"
      ],
      "text/plain": [
       "   id  identifier  generation_id  evolves_from_species_id  evolution_chain_id  \\\n",
       "0   1   bulbasaur              1                      NaN                   1   \n",
       "1   2     ivysaur              1                      1.0                   1   \n",
       "2   3    venusaur              1                      2.0                   1   \n",
       "3   4  charmander              1                      NaN                   2   \n",
       "4   5  charmeleon              1                      4.0                   2   \n",
       "\n",
       "   color_id  shape_id  habitat_id  gender_rate  capture_rate  base_happiness  \\\n",
       "0         5         8         3.0            1            45            50.0   \n",
       "1         5         8         3.0            1            45            50.0   \n",
       "2         5         8         3.0            1            45            50.0   \n",
       "3         8         6         4.0            1            45            50.0   \n",
       "4         8         6         4.0            1            45            50.0   \n",
       "\n",
       "   is_baby  hatch_counter  has_gender_differences  growth_rate_id  \\\n",
       "0        0           20.0                       0               4   \n",
       "1        0           20.0                       0               4   \n",
       "2        0           20.0                       1               4   \n",
       "3        0           20.0                       0               4   \n",
       "4        0           20.0                       0               4   \n",
       "\n",
       "   forms_switchable  is_legendary  is_mythical  order  conquest_order  \n",
       "0                 0             0            0      1             NaN  \n",
       "1                 0             0            0      2             NaN  \n",
       "2                 1             0            0      3             NaN  \n",
       "3                 0             0            0      4           109.0  \n",
       "4                 0             0            0      5           110.0  "
      ]
     },
     "execution_count": 51,
     "metadata": {},
     "output_type": "execute_result"
    }
   ],
   "source": [
    "evol_df.head()"
   ]
  },
  {
   "cell_type": "code",
   "execution_count": 52,
   "metadata": {},
   "outputs": [
    {
     "name": "stderr",
     "output_type": "stream",
     "text": [
      "1025it [00:37, 27.06it/s]"
     ]
    },
    {
     "name": "stdout",
     "output_type": "stream",
     "text": [
      "Charmeleon charmeleon 0\n"
     ]
    },
    {
     "name": "stderr",
     "output_type": "stream",
     "text": [
      "\n"
     ]
    }
   ],
   "source": [
    "from tqdm import tqdm\n",
    "bulba_to_evol = {}\n",
    "for i, row_bulba in tqdm(bulba_df.iterrows()):\n",
    "    min_dist = 1000\n",
    "    min_name = ''\n",
    "    for j, row_evol in evol_df.iterrows():\n",
    "        dist = distance(row_bulba['name'].lower(), row_evol['identifier'].lower())\n",
    "        if dist < min_dist:\n",
    "            min_dist = dist\n",
    "            min_name = row_evol['identifier']\n",
    "            \n",
    "    bulba_to_evol[row_bulba['name']] = min_name\n",
    "    \n",
    "    if \"Charmeleon\" in row_bulba['name']:\n",
    "        print(row_bulba['name'], min_name, min_dist)"
   ]
  },
  {
   "cell_type": "code",
   "execution_count": 56,
   "metadata": {},
   "outputs": [],
   "source": [
    "bulba_to_evol[\"Nidoran♂\"] = \"nidoran-m\""
   ]
  },
  {
   "cell_type": "code",
   "execution_count": 57,
   "metadata": {},
   "outputs": [
    {
     "data": {
      "text/plain": [
       "set()"
      ]
     },
     "execution_count": 57,
     "metadata": {},
     "output_type": "execute_result"
    }
   ],
   "source": [
    "def find_duplicated_names(liste):\n",
    "    seen = set()\n",
    "    duplicates = set()\n",
    "    for name in liste:\n",
    "        if name in seen:\n",
    "            duplicates.add(name)\n",
    "        seen.add(name)\n",
    "    return duplicates\n",
    "find_duplicated_names(bulba_to_evol.values())"
   ]
  },
  {
   "cell_type": "code",
   "execution_count": 59,
   "metadata": {},
   "outputs": [],
   "source": [
    "import json\n",
    "with open('bulba_to_evol.json', 'w') as f:\n",
    "    json.dump(bulba_to_evol, f, indent=4, ensure_ascii=False)"
   ]
  },
  {
   "cell_type": "code",
   "execution_count": 60,
   "metadata": {},
   "outputs": [],
   "source": [
    "evol_to_bulba = {v: k for k, v in bulba_to_evol.items()}"
   ]
  },
  {
   "cell_type": "markdown",
   "metadata": {},
   "source": [
    "# make_dataset"
   ]
  },
  {
   "cell_type": "markdown",
   "metadata": {},
   "source": [
    "make a list of tuple of (origin, evolution) from the given dataset"
   ]
  },
  {
   "cell_type": "code",
   "execution_count": 61,
   "metadata": {},
   "outputs": [],
   "source": [
    "dataset = []\n",
    "\n",
    "bulba_item = \"Dodrio\"\n",
    "\n",
    "def find_evolution(bulba_item):\n",
    "    evol_item = evol_df[evol_df['identifier'] == bulba_to_evol[bulba_item]]\n",
    "    evolution_id = evol_item['evolves_from_species_id'].values[0]\n",
    "    if evolution_id is None or 'nan' in str(evolution_id):\n",
    "        return None\n",
    "    evolution_name = evol_df[evol_df['id'] == evolution_id]['identifier'].values[0]\n",
    "    bulba_evolution_name = evol_to_bulba[evolution_name]\n",
    "    return bulba_evolution_name\n",
    "\n",
    "for bulba_item in bulba_to_evol.keys():\n",
    "    try:\n",
    "        evolution = find_evolution(bulba_item)\n",
    "        if evolution is not None:\n",
    "            dataset.append((evolution, bulba_item))\n",
    "    except Exception as e:\n",
    "        print(bulba_item)\n",
    "        print(e)\n",
    "        continue\n",
    "    "
   ]
  },
  {
   "cell_type": "code",
   "execution_count": 67,
   "metadata": {},
   "outputs": [],
   "source": [
    "# make metadata.csv file\n",
    "def find_image_for_name(name):\n",
    "    for i, row in bulba_df.iterrows():\n",
    "        if row['name'] == name:\n",
    "            return row[\"image_path\"]\n",
    "    raise Exception(\"Image not found for name: \" + name)"
   ]
  },
  {
   "cell_type": "code",
   "execution_count": 68,
   "metadata": {},
   "outputs": [],
   "source": [
    "dataset_image = [(find_image_for_name(evolution), find_image_for_name(bulba)) for evolution, bulba in dataset]"
   ]
  },
  {
   "cell_type": "code",
   "execution_count": null,
   "metadata": {},
   "outputs": [],
   "source": []
  },
  {
   "cell_type": "code",
   "execution_count": 88,
   "metadata": {},
   "outputs": [],
   "source": [
    "# convert to csv\n",
    "dataset_df = pd.DataFrame(dataset_image, columns=[\"origine\", \"evolution\"])\n",
    "dataset_df.to_csv(\n",
    "    \"/workspaces/pokemon-infinite-evolution/scrap/dataset/images/metadata.csv\",\n",
    "    index=False,\n",
    ")"
   ]
  },
  {
   "cell_type": "code",
   "execution_count": 1,
   "metadata": {},
   "outputs": [
    {
     "name": "stderr",
     "output_type": "stream",
     "text": [
      "/home/codespace/.python/current/lib/python3.12/site-packages/tqdm/auto.py:21: TqdmWarning: IProgress not found. Please update jupyter and ipywidgets. See https://ipywidgets.readthedocs.io/en/stable/user_install.html\n",
      "  from .autonotebook import tqdm as notebook_tqdm\n"
     ]
    }
   ],
   "source": [
    "from datasets import load_dataset\n",
    "\n",
    "hf_dataset = load_dataset(\"/workspaces/pokemon-infinite-evolution/scrap/dataset\")"
   ]
  },
  {
   "cell_type": "code",
   "execution_count": 2,
   "metadata": {},
   "outputs": [],
   "source": [
    "def map_caption(example):\n",
    "    example[\"caption_basic\"] = \"Make this pokemon evolve\"\n",
    "    return example"
   ]
  },
  {
   "cell_type": "code",
   "execution_count": 3,
   "metadata": {},
   "outputs": [],
   "source": [
    "hf_dataset = hf_dataset.map(map_caption)"
   ]
  },
  {
   "cell_type": "code",
   "execution_count": null,
   "metadata": {},
   "outputs": [],
   "source": [
    "from PIL import Image\n",
    "def map_opaque_origin(example):\n",
    "    img = example[\"origin\"]\n",
    "    img_opaque = Image.new(\"RGB\", img.size, \"WHITE\")\n",
    "    img_opaque.paste(img, (0, 0), img)\n",
    "    example[\"origin\"] = img_opaque\n",
    "    \n",
    "    return example\n",
    "hf_dataset = hf_dataset.map(map_opaque_origin, num_proc=4)\n"
   ]
  },
  {
   "cell_type": "code",
   "execution_count": 11,
   "metadata": {},
   "outputs": [
    {
     "name": "stderr",
     "output_type": "stream",
     "text": [
      "Map: 100%|██████████| 484/484 [01:41<00:00,  4.75 examples/s]\n"
     ]
    }
   ],
   "source": [
    "def map_resize(example):\n",
    "    example[\"origin\"] = example[\"origin\"].resize((512, 512))\n",
    "    example[\"evolution\"] = example[\"evolution\"].resize((512, 512))\n",
    "    return example\n",
    "hf_dataset = hf_dataset.map(map_resize)"
   ]
  },
  {
   "cell_type": "code",
   "execution_count": 13,
   "metadata": {},
   "outputs": [
    {
     "name": "stderr",
     "output_type": "stream",
     "text": [
      "Map: 100%|██████████| 484/484 [00:33<00:00, 14.38 examples/s] \n"
     ]
    }
   ],
   "source": [
    "def map_opaque_evolution(example):\n",
    "    img = example[\"evolution\"]\n",
    "    img_opaque = Image.new(\"RGB\", img.size, \"WHITE\")\n",
    "    img_opaque.paste(img, (0, 0), img)\n",
    "    example[\"evolution\"] = img_opaque\n",
    "    \n",
    "    return example\n",
    "hf_dataset = hf_dataset.map(map_opaque_evolution)"
   ]
  },
  {
   "cell_type": "code",
   "execution_count": 14,
   "metadata": {},
   "outputs": [
    {
     "name": "stderr",
     "output_type": "stream",
     "text": [
      "Map: 100%|██████████| 484/484 [00:00<00:00, 1687.31 examples/s]t/s]\n",
      "Creating parquet from Arrow format: 100%|██████████| 5/5 [00:00<00:00, 23.39ba/s]\n",
      "Uploading the dataset shards: 100%|██████████| 1/1 [00:05<00:00,  5.91s/it]\n"
     ]
    },
    {
     "data": {
      "text/plain": [
       "CommitInfo(commit_url='https://huggingface.co/datasets/PhilSad/pokemon_evolution_512/commit/490fae353998bf4bab90f778801aa4d9bbb3fe35', commit_message='Upload dataset', commit_description='', oid='490fae353998bf4bab90f778801aa4d9bbb3fe35', pr_url=None, repo_url=RepoUrl('https://huggingface.co/datasets/PhilSad/pokemon_evolution_512', endpoint='https://huggingface.co', repo_type='dataset', repo_id='PhilSad/pokemon_evolution_512'), pr_revision=None, pr_num=None)"
      ]
     },
     "execution_count": 14,
     "metadata": {},
     "output_type": "execute_result"
    }
   ],
   "source": [
    "hf_dataset.push_to_hub(\"PhilSad/pokemon_evolution_512\", private=True)"
   ]
  },
  {
   "cell_type": "code",
   "execution_count": 96,
   "metadata": {},
   "outputs": [
    {
     "data": {
      "text/plain": [
       "Dataset({\n",
       "    features: ['origin', 'evolution'],\n",
       "    num_rows: 484\n",
       "})"
      ]
     },
     "execution_count": 96,
     "metadata": {},
     "output_type": "execute_result"
    }
   ],
   "source": [
    "hf_dataset[\"train\"]"
   ]
  }
 ],
 "metadata": {
  "kernelspec": {
   "display_name": "Python 3",
   "language": "python",
   "name": "python3"
  },
  "language_info": {
   "codemirror_mode": {
    "name": "ipython",
    "version": 3
   },
   "file_extension": ".py",
   "mimetype": "text/x-python",
   "name": "python",
   "nbconvert_exporter": "python",
   "pygments_lexer": "ipython3",
   "version": "3.12.1"
  }
 },
 "nbformat": 4,
 "nbformat_minor": 2
}
